{
  "cells": [
    {
      "cell_type": "code",
      "execution_count": 8,
      "metadata": {
        "id": "q5kmTJJVt6YW"
      },
      "outputs": [],
      "source": [
        "import requests\n",
        "from datetime import datetime"
      ]
    },
    {
      "cell_type": "code",
      "execution_count": 24,
      "metadata": {
        "id": "9AREsjnLuC_V"
      },
      "outputs": [],
      "source": [
        "class Stock:\n",
        "    def __init__(self, ticker, api_key):\n",
        "        \"\"\"\n",
        "        Initialize a Stock object.\n",
        "        :param ticker: Ticker symbol of the stock (e.g., 'AAPL').\n",
        "        :param api_key: RapidAPI key.\n",
        "        \"\"\"\n",
        "        self.ticker = ticker\n",
        "        self.api_key = api_key\n",
        "\n",
        "    def _date_to_timestamp(self, date):\n",
        "        \"\"\"\n",
        "        Convert a date in 'YYYY-MM-DD' format to a timestamp.\n",
        "        :param date: The date in 'YYYY-MM-DD' format.\n",
        "        :return: Timestamp corresponding to the date.\n",
        "        \"\"\"\n",
        "        return int(datetime.strptime(date, '%Y-%m-%d').timestamp())\n",
        "\n",
        "    def get_prices_between(self, start_date, end_date):\n",
        "        \"\"\"\n",
        "        Fetch the stock prices between two dates using Yahoo Finance API via RapidAPI.\n",
        "        :param start_date: The start date in 'YYYY-MM-DD' format.\n",
        "        :param end_date: The end date in 'YYYY-MM-DD' format.\n",
        "        :return: List of tuples (date, close price) for the available data between the two dates.\n",
        "        \"\"\"\n",
        "        url = \"https://apidojo-yahoo-finance-v1.p.rapidapi.com/stock/v2/get-historical-data\"\n",
        "        querystring = {\n",
        "            \"symbol\": self.ticker,\n",
        "            \"period1\": self._date_to_timestamp(start_date),\n",
        "            \"period2\": self._date_to_timestamp(end_date),\n",
        "            \"region\": \"US\"\n",
        "        }\n",
        "\n",
        "        headers = {\n",
        "            \"X-RapidAPI-Key\": self.api_key,\n",
        "            \"X-RapidAPI-Host\": \"apidojo-yahoo-finance-v1.p.rapidapi.com\"\n",
        "        }\n",
        "\n",
        "        response = requests.get(url, headers=headers, params=querystring)\n",
        "        data = response.json()\n",
        "\n",
        "        # Debug: Print the raw response\n",
        "        print(f\"Raw data for {self.ticker}: {data}\")\n",
        "\n",
        "        prices = []\n",
        "\n",
        "        # Extract prices\n",
        "        for item in data['prices']:\n",
        "            if 'date' in item and 'close' in item:\n",
        "                item_date = datetime.utcfromtimestamp(item['date']).strftime('%Y-%m-%d')\n",
        "                prices.append((item_date, item['close']))\n",
        "\n",
        "        if not prices:\n",
        "            raise ValueError(f\"No valid data available for {self.ticker} between {start_date} and {end_date}.\")\n",
        "\n",
        "        return prices"
      ]
    },
    {
      "cell_type": "code",
      "execution_count": 21,
      "metadata": {
        "id": "VRNDjXXJwcde"
      },
      "outputs": [],
      "source": [
        "class Portfolio:\n",
        "    def __init__(self):\n",
        "        \"\"\"\n",
        "        Initialize a Portfolio object.\n",
        "        \"\"\"\n",
        "        self.stocks = []\n",
        "\n",
        "    def add_stock(self, stock):\n",
        "        \"\"\"\n",
        "        Add a stock to the portfolio.\n",
        "        :param stock: A Stock object.\n",
        "        \"\"\"\n",
        "        self.stocks.append(stock)\n",
        "\n",
        "    def profit(self, start_date, end_date):\n",
        "        \"\"\"\n",
        "        Calculate the total profit of the portfolio between two dates.\n",
        "        :param start_date: The start date in 'YYYY-MM-DD' format.\n",
        "        :param end_date: The end date in 'YYYY-MM-DD' format.\n",
        "        :return: The profit of the portfolio between the two dates.\n",
        "        \"\"\"\n",
        "        start_total = 0\n",
        "        end_total = 0\n",
        "\n",
        "        # Iterate over each stock in the portfolio\n",
        "        for stock in self.stocks:\n",
        "            try:\n",
        "                # Fetch all prices between the two dates\n",
        "                prices = stock.get_prices_between(start_date, end_date)\n",
        "                # Sort prices by date\n",
        "                prices.sort()\n",
        "\n",
        "                # Use the first available price (start) and the last available price (end)\n",
        "                start_price = prices[0][1]  # First price\n",
        "                end_price = prices[-1][1]   # Last price\n",
        "\n",
        "                # Accumulate the total value of the portfolio at both dates\n",
        "                start_total += start_price\n",
        "                end_total += end_price\n",
        "\n",
        "            except ValueError as e:\n",
        "                print(f\"Error fetching data for {stock.ticker}: {e}\")\n",
        "\n",
        "        # Calculate the profit\n",
        "        profit = end_total - start_total\n",
        "        return profit, start_total\n",
        "\n",
        "    def annualized_return(self, start_date, end_date):\n",
        "        \"\"\"\n",
        "        Calculate the annualized return of the portfolio between two dates.\n",
        "        :param start_date: The start date in 'YYYY-MM-DD' format.\n",
        "        :param end_date: The end date in 'YYYY-MM-DD' format.\n",
        "        :return: The annualized return as a percentage.\n",
        "        \"\"\"\n",
        "        # Get the profit and the total value at the start date\n",
        "        profit, start_total = self.profit(start_date, end_date)\n",
        "\n",
        "        # Calculate the number of days between the two dates\n",
        "        days = (datetime.strptime(end_date, '%Y-%m-%d') - datetime.strptime(start_date, '%Y-%m-%d')).days\n",
        "\n",
        "        # Calculate the annualized return\n",
        "        annualized_return = ((profit / start_total) + 1) ** (365 / days) - 1\n",
        "        return annualized_return"
      ]
    },
    {
      "cell_type": "markdown",
      "metadata": {
        "id": "oxsyettk4rEY"
      },
      "source": [
        "$$\n",
        "\\text{Annualized Return} = \\left(\\frac{{\\text{End Value}}}{{\\text{Start Value}}} \\right)^{\\left(\\frac{{365}}{{\\text{Days}}}\\right)} - 1\n",
        "$$\n",
        "\n",
        "Measure of how much an investment has increased on average during a specific period."
      ]
    },
    {
      "cell_type": "code",
      "execution_count": 28,
      "metadata": {
        "id": "Asoe2kPG3nkW"
      },
      "outputs": [],
      "source": [
        "def fx_annualized_return(profit, start_total, start_date, end_date):\n",
        "    \"\"\"\n",
        "    Calculate the annualized return of the portfolio between two dates with profit and start_total previously calculated.\n",
        "    :param start_date: The start date in 'YYYY-MM-DD' format.\n",
        "    :param end_date: The end date in 'YYYY-MM-DD' format.\n",
        "    :return: The annualized return as a percentage.\n",
        "    \"\"\"\n",
        "\n",
        "    # Calculate the number of days between the two dates\n",
        "    days = (datetime.strptime(end_date, '%Y-%m-%d') - datetime.strptime(start_date, '%Y-%m-%d')).days\n",
        "\n",
        "    # Calculate the annualized return\n",
        "    annualized_return = ((profit / start_total) + 1) ** (365 / days) - 1\n",
        "    return annualized_return"
      ]
    },
    {
      "cell_type": "code",
      "execution_count": 29,
      "metadata": {
        "colab": {
          "base_uri": "https://localhost:8080/"
        },
        "id": "5CnCFT-zuKp3",
        "outputId": "5c6ee0aa-c585-4bdb-e17e-7db69b64a541"
      },
      "outputs": [
        {
          "name": "stdout",
          "output_type": "stream",
          "text": [
            "Raw data for AAPL: {'prices': [{'date': 1724851800, 'open': 227.9199981689453, 'high': 229.86000061035156, 'low': 225.67999267578125, 'close': 226.49000549316406, 'volume': 38052200, 'adjclose': 226.49000549316406}, {'date': 1724765400, 'open': 226, 'high': 228.85000610351562, 'low': 224.88999938964844, 'close': 228.02999877929688, 'volume': 35934600, 'adjclose': 228.02999877929688}, {'date': 1724679000, 'open': 226.75999450683594, 'high': 227.27999877929688, 'low': 223.88999938964844, 'close': 227.17999267578125, 'volume': 30602200, 'adjclose': 227.17999267578125}, {'date': 1724419800, 'open': 225.66000366210938, 'high': 228.22000122070312, 'low': 224.3300018310547, 'close': 226.83999633789062, 'volume': 38677300, 'adjclose': 226.83999633789062}, {'date': 1724333400, 'open': 227.7899932861328, 'high': 228.33999633789062, 'low': 223.89999389648438, 'close': 224.52999877929688, 'volume': 43695300, 'adjclose': 224.52999877929688}, {'date': 1724247000, 'open': 226.52000427246094, 'high': 227.97999572753906, 'low': 225.0500030517578, 'close': 226.39999389648438, 'volume': 34765500, 'adjclose': 226.39999389648438}, {'date': 1724160600, 'open': 225.77000427246094, 'high': 227.1699981689453, 'low': 225.4499969482422, 'close': 226.50999450683594, 'volume': 30299000, 'adjclose': 226.50999450683594}, {'date': 1724074200, 'open': 225.72000122070312, 'high': 225.99000549316406, 'low': 223.0399932861328, 'close': 225.88999938964844, 'volume': 40687800, 'adjclose': 225.88999938964844}, {'date': 1723815000, 'open': 223.9199981689453, 'high': 226.8300018310547, 'low': 223.64999389648438, 'close': 226.0500030517578, 'volume': 44340200, 'adjclose': 226.0500030517578}, {'date': 1723728600, 'open': 224.60000610351562, 'high': 225.35000610351562, 'low': 222.75999450683594, 'close': 224.72000122070312, 'volume': 46414000, 'adjclose': 224.72000122070312}, {'date': 1723642200, 'open': 220.57000732421875, 'high': 223.02999877929688, 'low': 219.6999969482422, 'close': 221.72000122070312, 'volume': 41960600, 'adjclose': 221.72000122070312}, {'date': 1723555800, 'open': 219.00999450683594, 'high': 221.88999938964844, 'low': 219.00999450683594, 'close': 221.27000427246094, 'volume': 44155300, 'adjclose': 221.27000427246094}, {'date': 1723469400, 'open': 216.07000732421875, 'high': 219.50999450683594, 'low': 215.60000610351562, 'close': 217.52999877929688, 'volume': 38028100, 'adjclose': 217.52999877929688}, {'amount': 0.25, 'date': 1723469400, 'type': 'DIVIDEND', 'data': 0.25}, {'date': 1723210200, 'open': 212.10000610351562, 'high': 216.77999877929688, 'low': 211.97000122070312, 'close': 216.24000549316406, 'volume': 42201600, 'adjclose': 215.99000549316406}, {'date': 1723123800, 'open': 213.11000061035156, 'high': 214.1999969482422, 'low': 208.8300018310547, 'close': 213.30999755859375, 'volume': 47161100, 'adjclose': 213.06338500976562}, {'date': 1723037400, 'open': 206.89999389648438, 'high': 213.63999938964844, 'low': 206.38999938964844, 'close': 209.82000732421875, 'volume': 63516400, 'adjclose': 209.57742309570312}, {'date': 1722951000, 'open': 205.3000030517578, 'high': 209.99000549316406, 'low': 201.07000732421875, 'close': 207.22999572753906, 'volume': 69660500, 'adjclose': 206.9904022216797}, {'date': 1722864600, 'open': 199.08999633789062, 'high': 213.5, 'low': 196, 'close': 209.27000427246094, 'volume': 119548600, 'adjclose': 209.02806091308594}, {'date': 1722605400, 'open': 219.14999389648438, 'high': 225.60000610351562, 'low': 217.7100067138672, 'close': 219.86000061035156, 'volume': 105568600, 'adjclose': 219.60580444335938}, {'date': 1722519000, 'open': 224.3699951171875, 'high': 224.47999572753906, 'low': 217.02000427246094, 'close': 218.36000061035156, 'volume': 62501000, 'adjclose': 218.1075439453125}], 'isPending': False, 'firstTradeDate': 345479400, 'id': '1d17224704001724889600', 'timeZone': {'gmtOffset': -14400}, 'eventsData': [{'amount': 0.25, 'date': 1723469400, 'type': 'DIVIDEND', 'data': 0.25}]}\n",
            "Raw data for MSFT: {'prices': [{'date': 1724851800, 'open': 414.8800048828125, 'high': 415, 'low': 407.30999755859375, 'close': 410.6000061035156, 'volume': 14882700, 'adjclose': 410.6000061035156}, {'date': 1724765400, 'open': 412.8599853515625, 'high': 414.3599853515625, 'low': 410.25, 'close': 413.8399963378906, 'volume': 13492900, 'adjclose': 413.8399963378906}, {'date': 1724679000, 'open': 416.3699951171875, 'high': 417.2799987792969, 'low': 411.3399963378906, 'close': 413.489990234375, 'volume': 13152800, 'adjclose': 413.489990234375}, {'date': 1724419800, 'open': 416.9800109863281, 'high': 419.260009765625, 'low': 412.0899963378906, 'close': 416.7900085449219, 'volume': 18493800, 'adjclose': 416.7900085449219}, {'date': 1724333400, 'open': 424.3599853515625, 'high': 426.7900085449219, 'low': 414.6099853515625, 'close': 415.54998779296875, 'volume': 19361900, 'adjclose': 415.54998779296875}, {'date': 1724247000, 'open': 424.0799865722656, 'high': 426.3999938964844, 'low': 421.7200012207031, 'close': 424.1400146484375, 'volume': 16067300, 'adjclose': 424.1400146484375}, {'date': 1724160600, 'open': 421.70001220703125, 'high': 425.8599853515625, 'low': 421.6400146484375, 'close': 424.79998779296875, 'volume': 16387600, 'adjclose': 424.79998779296875}, {'date': 1724074200, 'open': 418.9599914550781, 'high': 421.75, 'low': 416.4599914550781, 'close': 421.5299987792969, 'volume': 15234000, 'adjclose': 421.5299987792969}, {'date': 1723815000, 'open': 420.6000061035156, 'high': 421.3399963378906, 'low': 417.29998779296875, 'close': 418.4700012207031, 'volume': 22775600, 'adjclose': 418.4700012207031}, {'date': 1723728600, 'open': 419.79998779296875, 'high': 421.1099853515625, 'low': 417.6600036621094, 'close': 421.0299987792969, 'volume': 20752100, 'adjclose': 421.0299987792969}, {'amount': 0.75, 'date': 1723728600, 'type': 'DIVIDEND', 'data': 0.75}, {'date': 1723642200, 'open': 414.79998779296875, 'high': 417.7200012207031, 'low': 412.45001220703125, 'close': 416.8599853515625, 'volume': 18267000, 'adjclose': 416.1099853515625}, {'date': 1723555800, 'open': 409.5899963378906, 'high': 414.95001220703125, 'low': 409.57000732421875, 'close': 414.010009765625, 'volume': 19414300, 'adjclose': 413.26513671875}, {'date': 1723469400, 'open': 407.05999755859375, 'high': 408.760009765625, 'low': 404.239990234375, 'close': 406.80999755859375, 'volume': 16762900, 'adjclose': 406.07806396484375}, {'date': 1723210200, 'open': 404.0299987792969, 'high': 408.04998779296875, 'low': 402.260009765625, 'close': 406.0199890136719, 'volume': 19276700, 'adjclose': 405.28948974609375}, {'date': 1723123800, 'open': 402.44000244140625, 'high': 405.8599853515625, 'low': 399.94000244140625, 'close': 402.69000244140625, 'volume': 20203000, 'adjclose': 401.9654846191406}, {'date': 1723037400, 'open': 408.6400146484375, 'high': 410.0799865722656, 'low': 397.4700012207031, 'close': 398.42999267578125, 'volume': 20650900, 'adjclose': 397.7131652832031}, {'date': 1722951000, 'open': 400, 'high': 405.6700134277344, 'low': 398.5, 'close': 399.6099853515625, 'volume': 24946500, 'adjclose': 398.8910217285156}, {'date': 1722864600, 'open': 389.1700134277344, 'high': 401.0400085449219, 'low': 385.5799865722656, 'close': 395.1499938964844, 'volume': 40709200, 'adjclose': 394.4390563964844}, {'date': 1722605400, 'open': 412.489990234375, 'high': 415, 'low': 404.3399963378906, 'close': 408.489990234375, 'volume': 29437900, 'adjclose': 407.7550354003906}, {'date': 1722519000, 'open': 420.7900085449219, 'high': 427.4599914550781, 'low': 413.0899963378906, 'close': 417.1099853515625, 'volume': 30296400, 'adjclose': 416.3595275878906}], 'isPending': False, 'firstTradeDate': 511108200, 'id': '1d17224704001724889600', 'timeZone': {'gmtOffset': -14400}, 'eventsData': [{'amount': 0.75, 'date': 1723728600, 'type': 'DIVIDEND', 'data': 0.75}]}\n",
            "Profit between 2024-08-01 and 2024-08-29: 1.620025634765625\n",
            "Annualized return: 3.37%\n"
          ]
        }
      ],
      "source": [
        "if __name__ == \"__main__\":\n",
        "    api_key = \"62b455dff6msha0c8e8e52b02c94p139a73jsn95cacfa5151d\" #TODO: Get API KEY from .env file\n",
        "\n",
        "    # Create Stock objects\n",
        "    stock_a = Stock(\"AAPL\", api_key)\n",
        "    stock_b = Stock(\"MSFT\", api_key)\n",
        "\n",
        "    # Create Portfolio and add stocks\n",
        "    portfolio = Portfolio()\n",
        "    portfolio.add_stock(stock_a)\n",
        "    portfolio.add_stock(stock_b)\n",
        "\n",
        "    # Dates for profit and annualized return calculations\n",
        "    start_date = \"2024-08-01\"\n",
        "    end_date = \"2024-08-29\"\n",
        "\n",
        "    # Calculate profit and annualized return\n",
        "    try:\n",
        "        profit, start_total = portfolio.profit(start_date, end_date)\n",
        "        print(f\"Profit between {start_date} and {end_date}: {profit}\")\n",
        "        # annualized_return = portfolio.annualized_return(start_date, end_date)\n",
        "        annualized_return = fx_annualized_return(profit, start_total, start_date, end_date)\n",
        "        print(f\"Annualized return: {annualized_return:.2%}\")\n",
        "    except ValueError as e:\n",
        "        print(f\"Error: {e}\")"
      ]
    }
  ],
  "metadata": {
    "colab": {
      "provenance": [],
      "toc_visible": true
    },
    "kernelspec": {
      "display_name": "Python 3",
      "name": "python3"
    },
    "language_info": {
      "name": "python"
    }
  },
  "nbformat": 4,
  "nbformat_minor": 0
}
