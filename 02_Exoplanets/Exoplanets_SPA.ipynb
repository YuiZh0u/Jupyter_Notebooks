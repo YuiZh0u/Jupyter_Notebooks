{
  "cells": [
    {
      "cell_type": "markdown",
      "metadata": {
        "id": "Amm2mgkiruaf"
      },
      "source": [
        "# Descubriendo Exoplanetas"
      ]
    },
    {
      "cell_type": "markdown",
      "metadata": {
        "id": "LZdDS-_PqSaQ"
      },
      "source": [
        "## Objetivo\n",
        "\n",
        "Construir un modelo de Machine Learning que detecte los planetas confirmados. Se espera generar un modelo de Machine Learning que pueda automatizar el proceso de identificar qué candidatos son exoplanetas confirmados y cuales no."
      ]
    },
    {
      "cell_type": "markdown",
      "metadata": {
        "id": "FHMNsSLprcN6"
      },
      "source": [
        "## Identificación y preparación de datos"
      ]
    },
    {
      "cell_type": "markdown",
      "metadata": {
        "id": "j4sQROhsvr1u"
      },
      "source": [
        "La variable objetivo es `koi_disposition`, la cual corresponde la categoria del exoplaneta (candidato, falso positivo, no disposicionado o confirmado)."
      ]
    },
    {
      "cell_type": "markdown",
      "metadata": {
        "id": "aeGsMuc82xmL"
      },
      "source": [
        "### Varibles que presentan un valor promedio muy distinto"
      ]
    },
    {
      "cell_type": "code",
      "execution_count": 1,
      "metadata": {
        "id": "1D7vS_B9s9Rs"
      },
      "outputs": [],
      "source": [
        "import pandas as pd"
      ]
    },
    {
      "cell_type": "code",
      "execution_count": 3,
      "metadata": {
        "id": "oJVnc0SmqL-I"
      },
      "outputs": [],
      "source": [
        "exop_df = pd.read_csv(\"/content/exoplanetas.csv\")"
      ]
    },
    {
      "cell_type": "code",
      "execution_count": null,
      "metadata": {
        "id": "vtq0Z361ctuS"
      },
      "outputs": [],
      "source": [
        "exop_df.isna().sum()"
      ]
    },
    {
      "cell_type": "code",
      "execution_count": 5,
      "metadata": {
        "id": "gfpO9_JQ4U8B"
      },
      "outputs": [],
      "source": [
        "exop_confirmed = exop_df.loc[exop_df['koi_disposition'] == 'CONFIRMED']"
      ]
    },
    {
      "cell_type": "code",
      "execution_count": 6,
      "metadata": {
        "id": "wpFvcNoq70pp"
      },
      "outputs": [],
      "source": [
        "exop_confirmed_mean = exop_confirmed.mean(numeric_only=True)"
      ]
    },
    {
      "cell_type": "code",
      "execution_count": 7,
      "metadata": {
        "id": "gCP_lwsZ4k9T"
      },
      "outputs": [],
      "source": [
        "exop_falsepos = exop_df.loc[exop_df['koi_disposition'] == 'FALSE POSITIVE']"
      ]
    },
    {
      "cell_type": "code",
      "execution_count": 8,
      "metadata": {
        "id": "RiC5dtQa46tK"
      },
      "outputs": [],
      "source": [
        "exop_falsepos_mean = exop_falsepos.mean(numeric_only=True)"
      ]
    },
    {
      "cell_type": "code",
      "execution_count": 9,
      "metadata": {
        "colab": {
          "base_uri": "https://localhost:8080/",
          "height": 1000
        },
        "id": "Pi3solAE8-cP",
        "outputId": "23839736-0994-4a61-e31d-be70a8a4f9b0"
      },
      "outputs": [
        {
          "data": {
            "text/html": [
              "\n",
              "  <div id=\"df-ea5a09e5-479d-4a2e-ac5b-60f617653932\">\n",
              "    <div class=\"colab-df-container\">\n",
              "      <div>\n",
              "<style scoped>\n",
              "    .dataframe tbody tr th:only-of-type {\n",
              "        vertical-align: middle;\n",
              "    }\n",
              "\n",
              "    .dataframe tbody tr th {\n",
              "        vertical-align: top;\n",
              "    }\n",
              "\n",
              "    .dataframe thead th {\n",
              "        text-align: right;\n",
              "    }\n",
              "</style>\n",
              "<table border=\"1\" class=\"dataframe\">\n",
              "  <thead>\n",
              "    <tr style=\"text-align: right;\">\n",
              "      <th></th>\n",
              "      <th>CONFIRMED</th>\n",
              "      <th>FALSE POSITIVE</th>\n",
              "    </tr>\n",
              "  </thead>\n",
              "  <tbody>\n",
              "    <tr>\n",
              "      <th>koi_fpflag_nt</th>\n",
              "      <td>0.009444</td>\n",
              "      <td>0.308505</td>\n",
              "    </tr>\n",
              "    <tr>\n",
              "      <th>koi_fpflag_ss</th>\n",
              "      <td>0.011667</td>\n",
              "      <td>0.476027</td>\n",
              "    </tr>\n",
              "    <tr>\n",
              "      <th>koi_fpflag_co</th>\n",
              "      <td>0.003333</td>\n",
              "      <td>0.403253</td>\n",
              "    </tr>\n",
              "    <tr>\n",
              "      <th>koi_fpflag_ec</th>\n",
              "      <td>0.000556</td>\n",
              "      <td>0.249144</td>\n",
              "    </tr>\n",
              "    <tr>\n",
              "      <th>koi_period</th>\n",
              "      <td>26.451343</td>\n",
              "      <td>66.103066</td>\n",
              "    </tr>\n",
              "    <tr>\n",
              "      <th>koi_period_err1</th>\n",
              "      <td>0.000190</td>\n",
              "      <td>0.002556</td>\n",
              "    </tr>\n",
              "    <tr>\n",
              "      <th>koi_period_err2</th>\n",
              "      <td>-0.000190</td>\n",
              "      <td>-0.002556</td>\n",
              "    </tr>\n",
              "    <tr>\n",
              "      <th>koi_time0bk</th>\n",
              "      <td>156.532602</td>\n",
              "      <td>166.012645</td>\n",
              "    </tr>\n",
              "    <tr>\n",
              "      <th>koi_time0bk_err1</th>\n",
              "      <td>0.004084</td>\n",
              "      <td>0.010165</td>\n",
              "    </tr>\n",
              "    <tr>\n",
              "      <th>koi_time0bk_err2</th>\n",
              "      <td>-0.004084</td>\n",
              "      <td>-0.010165</td>\n",
              "    </tr>\n",
              "    <tr>\n",
              "      <th>koi_impact</th>\n",
              "      <td>0.424590</td>\n",
              "      <td>0.995051</td>\n",
              "    </tr>\n",
              "    <tr>\n",
              "      <th>koi_impact_err1</th>\n",
              "      <td>0.280300</td>\n",
              "      <td>2.880355</td>\n",
              "    </tr>\n",
              "    <tr>\n",
              "      <th>koi_impact_err2</th>\n",
              "      <td>-0.311690</td>\n",
              "      <td>-0.336930</td>\n",
              "    </tr>\n",
              "    <tr>\n",
              "      <th>koi_duration</th>\n",
              "      <td>4.281003</td>\n",
              "      <td>6.585005</td>\n",
              "    </tr>\n",
              "    <tr>\n",
              "      <th>koi_duration_err1</th>\n",
              "      <td>0.119436</td>\n",
              "      <td>0.380753</td>\n",
              "    </tr>\n",
              "    <tr>\n",
              "      <th>koi_duration_err2</th>\n",
              "      <td>-0.119436</td>\n",
              "      <td>-0.380753</td>\n",
              "    </tr>\n",
              "    <tr>\n",
              "      <th>koi_depth</th>\n",
              "      <td>1206.021778</td>\n",
              "      <td>46230.630251</td>\n",
              "    </tr>\n",
              "    <tr>\n",
              "      <th>koi_depth_err1</th>\n",
              "      <td>21.748889</td>\n",
              "      <td>230.947860</td>\n",
              "    </tr>\n",
              "    <tr>\n",
              "      <th>koi_depth_err2</th>\n",
              "      <td>-21.748889</td>\n",
              "      <td>-230.947860</td>\n",
              "    </tr>\n",
              "    <tr>\n",
              "      <th>koi_prad</th>\n",
              "      <td>2.900372</td>\n",
              "      <td>235.364004</td>\n",
              "    </tr>\n",
              "    <tr>\n",
              "      <th>koi_prad_err1</th>\n",
              "      <td>0.483183</td>\n",
              "      <td>37.075537</td>\n",
              "    </tr>\n",
              "    <tr>\n",
              "      <th>koi_prad_err2</th>\n",
              "      <td>-0.381567</td>\n",
              "      <td>-79.496518</td>\n",
              "    </tr>\n",
              "    <tr>\n",
              "      <th>koi_teq</th>\n",
              "      <td>845.316111</td>\n",
              "      <td>1326.174372</td>\n",
              "    </tr>\n",
              "    <tr>\n",
              "      <th>koi_insol</th>\n",
              "      <td>363.705811</td>\n",
              "      <td>13362.093467</td>\n",
              "    </tr>\n",
              "    <tr>\n",
              "      <th>koi_insol_err1</th>\n",
              "      <td>198.478583</td>\n",
              "      <td>5941.028445</td>\n",
              "    </tr>\n",
              "    <tr>\n",
              "      <th>koi_insol_err2</th>\n",
              "      <td>-137.090422</td>\n",
              "      <td>-6602.791321</td>\n",
              "    </tr>\n",
              "    <tr>\n",
              "      <th>koi_model_snr</th>\n",
              "      <td>95.565556</td>\n",
              "      <td>480.452540</td>\n",
              "    </tr>\n",
              "    <tr>\n",
              "      <th>koi_tce_plnt_num</th>\n",
              "      <td>1.441111</td>\n",
              "      <td>1.108162</td>\n",
              "    </tr>\n",
              "    <tr>\n",
              "      <th>koi_steff</th>\n",
              "      <td>5482.749444</td>\n",
              "      <td>5844.317922</td>\n",
              "    </tr>\n",
              "    <tr>\n",
              "      <th>koi_steff_err1</th>\n",
              "      <td>116.568333</td>\n",
              "      <td>160.614155</td>\n",
              "    </tr>\n",
              "    <tr>\n",
              "      <th>koi_steff_err2</th>\n",
              "      <td>-124.126111</td>\n",
              "      <td>-184.317922</td>\n",
              "    </tr>\n",
              "    <tr>\n",
              "      <th>koi_slogg</th>\n",
              "      <td>4.409676</td>\n",
              "      <td>4.241754</td>\n",
              "    </tr>\n",
              "    <tr>\n",
              "      <th>koi_slogg_err1</th>\n",
              "      <td>0.090547</td>\n",
              "      <td>0.139757</td>\n",
              "    </tr>\n",
              "    <tr>\n",
              "      <th>koi_slogg_err2</th>\n",
              "      <td>-0.106618</td>\n",
              "      <td>-0.156198</td>\n",
              "    </tr>\n",
              "    <tr>\n",
              "      <th>koi_srad</th>\n",
              "      <td>1.068651</td>\n",
              "      <td>2.131909</td>\n",
              "    </tr>\n",
              "    <tr>\n",
              "      <th>koi_srad_err1</th>\n",
              "      <td>0.177139</td>\n",
              "      <td>0.451149</td>\n",
              "    </tr>\n",
              "    <tr>\n",
              "      <th>koi_srad_err2</th>\n",
              "      <td>-0.150436</td>\n",
              "      <td>-0.533944</td>\n",
              "    </tr>\n",
              "    <tr>\n",
              "      <th>ra</th>\n",
              "      <td>290.929260</td>\n",
              "      <td>292.838786</td>\n",
              "    </tr>\n",
              "    <tr>\n",
              "      <th>dec</th>\n",
              "      <td>44.389829</td>\n",
              "      <td>43.448455</td>\n",
              "    </tr>\n",
              "    <tr>\n",
              "      <th>koi_kepmag</th>\n",
              "      <td>14.339791</td>\n",
              "      <td>14.193240</td>\n",
              "    </tr>\n",
              "  </tbody>\n",
              "</table>\n",
              "</div>\n",
              "      <button class=\"colab-df-convert\" onclick=\"convertToInteractive('df-ea5a09e5-479d-4a2e-ac5b-60f617653932')\"\n",
              "              title=\"Convert this dataframe to an interactive table.\"\n",
              "              style=\"display:none;\">\n",
              "        \n",
              "  <svg xmlns=\"http://www.w3.org/2000/svg\" height=\"24px\"viewBox=\"0 0 24 24\"\n",
              "       width=\"24px\">\n",
              "    <path d=\"M0 0h24v24H0V0z\" fill=\"none\"/>\n",
              "    <path d=\"M18.56 5.44l.94 2.06.94-2.06 2.06-.94-2.06-.94-.94-2.06-.94 2.06-2.06.94zm-11 1L8.5 8.5l.94-2.06 2.06-.94-2.06-.94L8.5 2.5l-.94 2.06-2.06.94zm10 10l.94 2.06.94-2.06 2.06-.94-2.06-.94-.94-2.06-.94 2.06-2.06.94z\"/><path d=\"M17.41 7.96l-1.37-1.37c-.4-.4-.92-.59-1.43-.59-.52 0-1.04.2-1.43.59L10.3 9.45l-7.72 7.72c-.78.78-.78 2.05 0 2.83L4 21.41c.39.39.9.59 1.41.59.51 0 1.02-.2 1.41-.59l7.78-7.78 2.81-2.81c.8-.78.8-2.07 0-2.86zM5.41 20L4 18.59l7.72-7.72 1.47 1.35L5.41 20z\"/>\n",
              "  </svg>\n",
              "      </button>\n",
              "      \n",
              "  <style>\n",
              "    .colab-df-container {\n",
              "      display:flex;\n",
              "      flex-wrap:wrap;\n",
              "      gap: 12px;\n",
              "    }\n",
              "\n",
              "    .colab-df-convert {\n",
              "      background-color: #E8F0FE;\n",
              "      border: none;\n",
              "      border-radius: 50%;\n",
              "      cursor: pointer;\n",
              "      display: none;\n",
              "      fill: #1967D2;\n",
              "      height: 32px;\n",
              "      padding: 0 0 0 0;\n",
              "      width: 32px;\n",
              "    }\n",
              "\n",
              "    .colab-df-convert:hover {\n",
              "      background-color: #E2EBFA;\n",
              "      box-shadow: 0px 1px 2px rgba(60, 64, 67, 0.3), 0px 1px 3px 1px rgba(60, 64, 67, 0.15);\n",
              "      fill: #174EA6;\n",
              "    }\n",
              "\n",
              "    [theme=dark] .colab-df-convert {\n",
              "      background-color: #3B4455;\n",
              "      fill: #D2E3FC;\n",
              "    }\n",
              "\n",
              "    [theme=dark] .colab-df-convert:hover {\n",
              "      background-color: #434B5C;\n",
              "      box-shadow: 0px 1px 3px 1px rgba(0, 0, 0, 0.15);\n",
              "      filter: drop-shadow(0px 1px 2px rgba(0, 0, 0, 0.3));\n",
              "      fill: #FFFFFF;\n",
              "    }\n",
              "  </style>\n",
              "\n",
              "      <script>\n",
              "        const buttonEl =\n",
              "          document.querySelector('#df-ea5a09e5-479d-4a2e-ac5b-60f617653932 button.colab-df-convert');\n",
              "        buttonEl.style.display =\n",
              "          google.colab.kernel.accessAllowed ? 'block' : 'none';\n",
              "\n",
              "        async function convertToInteractive(key) {\n",
              "          const element = document.querySelector('#df-ea5a09e5-479d-4a2e-ac5b-60f617653932');\n",
              "          const dataTable =\n",
              "            await google.colab.kernel.invokeFunction('convertToInteractive',\n",
              "                                                     [key], {});\n",
              "          if (!dataTable) return;\n",
              "\n",
              "          const docLinkHtml = 'Like what you see? Visit the ' +\n",
              "            '<a target=\"_blank\" href=https://colab.research.google.com/notebooks/data_table.ipynb>data table notebook</a>'\n",
              "            + ' to learn more about interactive tables.';\n",
              "          element.innerHTML = '';\n",
              "          dataTable['output_type'] = 'display_data';\n",
              "          await google.colab.output.renderOutput(dataTable, element);\n",
              "          const docLink = document.createElement('div');\n",
              "          docLink.innerHTML = docLinkHtml;\n",
              "          element.appendChild(docLink);\n",
              "        }\n",
              "      </script>\n",
              "    </div>\n",
              "  </div>\n",
              "  "
            ],
            "text/plain": [
              "                     CONFIRMED  FALSE POSITIVE\n",
              "koi_fpflag_nt         0.009444        0.308505\n",
              "koi_fpflag_ss         0.011667        0.476027\n",
              "koi_fpflag_co         0.003333        0.403253\n",
              "koi_fpflag_ec         0.000556        0.249144\n",
              "koi_period           26.451343       66.103066\n",
              "koi_period_err1       0.000190        0.002556\n",
              "koi_period_err2      -0.000190       -0.002556\n",
              "koi_time0bk         156.532602      166.012645\n",
              "koi_time0bk_err1      0.004084        0.010165\n",
              "koi_time0bk_err2     -0.004084       -0.010165\n",
              "koi_impact            0.424590        0.995051\n",
              "koi_impact_err1       0.280300        2.880355\n",
              "koi_impact_err2      -0.311690       -0.336930\n",
              "koi_duration          4.281003        6.585005\n",
              "koi_duration_err1     0.119436        0.380753\n",
              "koi_duration_err2    -0.119436       -0.380753\n",
              "koi_depth          1206.021778    46230.630251\n",
              "koi_depth_err1       21.748889      230.947860\n",
              "koi_depth_err2      -21.748889     -230.947860\n",
              "koi_prad              2.900372      235.364004\n",
              "koi_prad_err1         0.483183       37.075537\n",
              "koi_prad_err2        -0.381567      -79.496518\n",
              "koi_teq             845.316111     1326.174372\n",
              "koi_insol           363.705811    13362.093467\n",
              "koi_insol_err1      198.478583     5941.028445\n",
              "koi_insol_err2     -137.090422    -6602.791321\n",
              "koi_model_snr        95.565556      480.452540\n",
              "koi_tce_plnt_num      1.441111        1.108162\n",
              "koi_steff          5482.749444     5844.317922\n",
              "koi_steff_err1      116.568333      160.614155\n",
              "koi_steff_err2     -124.126111     -184.317922\n",
              "koi_slogg             4.409676        4.241754\n",
              "koi_slogg_err1        0.090547        0.139757\n",
              "koi_slogg_err2       -0.106618       -0.156198\n",
              "koi_srad              1.068651        2.131909\n",
              "koi_srad_err1         0.177139        0.451149\n",
              "koi_srad_err2        -0.150436       -0.533944\n",
              "ra                  290.929260      292.838786\n",
              "dec                  44.389829       43.448455\n",
              "koi_kepmag           14.339791       14.193240"
            ]
          },
          "execution_count": 9,
          "metadata": {},
          "output_type": "execute_result"
        }
      ],
      "source": [
        "pd.concat([exop_confirmed_mean[1:], exop_falsepos_mean[1:]], axis=1, keys=['CONFIRMED', 'FALSE POSITIVE'])"
      ]
    },
    {
      "cell_type": "markdown",
      "metadata": {
        "id": "8oFfu5Lh-57p"
      },
      "source": [
        "Mediante la tabla anterior se puede comparar las medias de los exoplanetas confirmados y falsos positivos. Las variables que presentan mayores diferencia (bajo el criterio de que uno de los promedios sea superior al doble que el otro) son: \n",
        "* `koi_period` (y sus variables de certeza, `koi_period_err1` & `koi_period_err2`)\n",
        "* `koi_impact` + variables de certeza\n",
        "* `koi_depth` + variables de certeza\n",
        "* `koi_prad` + variables de certeza \n",
        "* `koi_insol`+ variables de certeza\n",
        "* `koi_model_snr`\n",
        "\n",
        "Las variables `koi_fpflag_nt`, `koi_fpflag_ss`, `koi_fpflag_co` y `koi_fpflag_ec`, tienen una diferencia de promedio elevada tambien, pero estos al ser True o False, los encuentro relevante para el modelo."
      ]
    },
    {
      "cell_type": "markdown",
      "metadata": {
        "id": "j5TgG0to25D4"
      },
      "source": [
        "### Reducción de cantidad de variables"
      ]
    },
    {
      "cell_type": "markdown",
      "metadata": {
        "id": "Rgb_nW-hIRQY"
      },
      "source": [
        "Las variables finales son las que no tienen una diferencia de promedio grande (las que se mencionan en el punto anterior), a estas se le escoge una de las variables de certeza (la mayoria de estas son iguales solo con signo opuesto), por comodidad se escoge la positiva. En caso de que no sean iguales, se selecciona la que tiene menor diferencia."
      ]
    },
    {
      "cell_type": "code",
      "execution_count": 10,
      "metadata": {
        "id": "CpRijrHFrOwC"
      },
      "outputs": [],
      "source": [
        "exop_df_reduced = exop_df[['koi_disposition', 'koi_fpflag_nt', 'koi_fpflag_ss', 'koi_fpflag_co', 'koi_fpflag_ec',\n",
        "                          'koi_time0bk', 'koi_time0bk_err1', 'koi_duration', 'koi_duration_err1', 'koi_teq',\n",
        "                          'koi_tce_plnt_num', 'koi_steff', 'koi_steff_err1', 'koi_slogg', 'koi_slogg_err2',\n",
        "                          'koi_srad', 'koi_srad_err1', 'ra', 'dec', 'koi_kepmag']].copy()"
      ]
    },
    {
      "cell_type": "markdown",
      "metadata": {
        "id": "lY1S0BsgDHI3"
      },
      "source": [
        "### Codificación de variable"
      ]
    },
    {
      "cell_type": "markdown",
      "metadata": {
        "id": "ugV1NAoLJFGV"
      },
      "source": [
        "Como la variable `koi_disposition` es un *string*, se le debe codificar asignandole un entero unico a cada valor. Para este caso, los `'CONFIRMED'` equivalen a 0, `'FALSE POSITIVE'` a 1 y `'CANDIDATE'` a 2."
      ]
    },
    {
      "cell_type": "code",
      "execution_count": 11,
      "metadata": {
        "id": "IRckEcJ_JjuS"
      },
      "outputs": [],
      "source": [
        "exop_df_reduced['koi_disposition'].replace('CONFIRMED', int(0), inplace=True)\n",
        "exop_df_reduced['koi_disposition'].replace('FALSE POSITIVE', int(1), inplace=True)\n",
        "exop_df_reduced['koi_disposition'].replace('CANDIDATE', int(2), inplace=True)"
      ]
    },
    {
      "cell_type": "code",
      "execution_count": null,
      "metadata": {
        "id": "oprDwmduKSjE"
      },
      "outputs": [],
      "source": [
        "exop_df_reduced"
      ]
    },
    {
      "cell_type": "markdown",
      "metadata": {
        "id": "qqICN371rkdw"
      },
      "source": [
        "## Entrenamiento y optimización del modelo"
      ]
    },
    {
      "cell_type": "markdown",
      "metadata": {
        "id": "M1B67u6Q-oEw"
      },
      "source": [
        "### Construcción de set de datos de entrenamiento y prueba"
      ]
    },
    {
      "cell_type": "markdown",
      "metadata": {
        "id": "DVU-lptIdwAn"
      },
      "source": [
        "Separar el dataset en 80% de los datos para entrenar y 20% para testear"
      ]
    },
    {
      "cell_type": "code",
      "execution_count": 13,
      "metadata": {
        "id": "Sv0iiu6XtDeq"
      },
      "outputs": [],
      "source": [
        "from sklearn.model_selection import train_test_split"
      ]
    },
    {
      "cell_type": "code",
      "execution_count": 14,
      "metadata": {
        "id": "DA46pf1rflcL"
      },
      "outputs": [],
      "source": [
        "exop_df_reduced_X = exop_df_reduced.drop(['koi_disposition'], axis=1)\n",
        "exop_df_reduced_y = exop_df_reduced['koi_disposition']"
      ]
    },
    {
      "cell_type": "code",
      "execution_count": 25,
      "metadata": {
        "id": "towgrNfmrnxe"
      },
      "outputs": [],
      "source": [
        "x_train, x_test, y_train, y_test = train_test_split(exop_df_reduced_X, exop_df_reduced_y, test_size=0.2, random_state=88)"
      ]
    },
    {
      "cell_type": "markdown",
      "metadata": {
        "id": "UGvgFsBLh__i"
      },
      "source": [
        "### Entrenamiento"
      ]
    },
    {
      "cell_type": "code",
      "execution_count": 16,
      "metadata": {
        "id": "MwuVyT2KtLbk"
      },
      "outputs": [],
      "source": [
        "from sklearn.ensemble import RandomForestClassifier\n",
        "from pprint import pprint"
      ]
    },
    {
      "cell_type": "code",
      "execution_count": 26,
      "metadata": {
        "colab": {
          "base_uri": "https://localhost:8080/"
        },
        "id": "YkzUkTkpiB7F",
        "outputId": "d7d98de5-7e33-49b8-b6c9-6aec3f03f9f1"
      },
      "outputs": [
        {
          "name": "stdout",
          "output_type": "stream",
          "text": [
            "Parametros utilizados (defaults): \n",
            "{'bootstrap': True,\n",
            " 'ccp_alpha': 0.0,\n",
            " 'class_weight': None,\n",
            " 'criterion': 'gini',\n",
            " 'max_depth': None,\n",
            " 'max_features': 'auto',\n",
            " 'max_leaf_nodes': None,\n",
            " 'max_samples': None,\n",
            " 'min_impurity_decrease': 0.0,\n",
            " 'min_samples_leaf': 1,\n",
            " 'min_samples_split': 2,\n",
            " 'min_weight_fraction_leaf': 0.0,\n",
            " 'n_estimators': 100,\n",
            " 'n_jobs': None,\n",
            " 'oob_score': False,\n",
            " 'random_state': 88,\n",
            " 'verbose': 0,\n",
            " 'warm_start': False}\n"
          ]
        }
      ],
      "source": [
        "rf_model = RandomForestClassifier(random_state=88)\n",
        "print('Parametros utilizados (defaults): ')\n",
        "pprint(rf_model.get_params())"
      ]
    },
    {
      "cell_type": "code",
      "execution_count": 27,
      "metadata": {
        "colab": {
          "base_uri": "https://localhost:8080/"
        },
        "id": "f0fNVbN-jtyF",
        "outputId": "21796c26-8727-4c1c-ecc8-726a00ab3fbe"
      },
      "outputs": [
        {
          "data": {
            "text/plain": [
              "RandomForestClassifier(random_state=88)"
            ]
          },
          "execution_count": 27,
          "metadata": {},
          "output_type": "execute_result"
        }
      ],
      "source": [
        "rf_model.fit(x_train, y_train)"
      ]
    },
    {
      "cell_type": "markdown",
      "metadata": {
        "id": "YESntlcWldN8"
      },
      "source": [
        "Metrica para medir desempeño: **accuracy**"
      ]
    },
    {
      "cell_type": "code",
      "execution_count": 28,
      "metadata": {
        "id": "Sd11z-qUtNr3"
      },
      "outputs": [],
      "source": [
        "from sklearn.metrics import accuracy_score"
      ]
    },
    {
      "cell_type": "code",
      "execution_count": 29,
      "metadata": {
        "colab": {
          "base_uri": "https://localhost:8080/"
        },
        "id": "P69qTMvCk0aR",
        "outputId": "f1eeed1c-a05d-4702-8024-965005f538d9"
      },
      "outputs": [
        {
          "data": {
            "text/plain": [
              "0.8892065761258041"
            ]
          },
          "execution_count": 29,
          "metadata": {},
          "output_type": "execute_result"
        }
      ],
      "source": [
        "accuracy_score(y_test, rf_model.predict(x_test))"
      ]
    },
    {
      "cell_type": "markdown",
      "metadata": {
        "id": "e43lwMsoliGE"
      },
      "source": [
        "### Optimizar hiperparámetros mediante `RandomizedSearchCV`"
      ]
    },
    {
      "cell_type": "code",
      "execution_count": 43,
      "metadata": {
        "id": "HAsWVbCetQ-S"
      },
      "outputs": [],
      "source": [
        "from sklearn.model_selection import RandomizedSearchCV\n",
        "import numpy as np"
      ]
    },
    {
      "cell_type": "code",
      "execution_count": 44,
      "metadata": {
        "id": "gt7L8vudlnBo"
      },
      "outputs": [],
      "source": [
        "random_grid = {\n",
        "    'max_depth': [int(x) for x in np.linspace(10, 100, num = 10)],\n",
        "    'min_samples_leaf': [1, 2, 3, 4],\n",
        "    'min_samples_split': [2, 3, 5, 10],\n",
        "    'n_estimators': [int(x) for x in np.linspace(start = 200, stop = 1000, num = 5)]\n",
        "}"
      ]
    },
    {
      "cell_type": "code",
      "execution_count": 45,
      "metadata": {
        "id": "v7DvaYDDnrV-"
      },
      "outputs": [],
      "source": [
        "rf_eval = RandomForestClassifier(random_state=88)"
      ]
    },
    {
      "cell_type": "code",
      "execution_count": 46,
      "metadata": {
        "id": "BDlYSFP2nvyA"
      },
      "outputs": [],
      "source": [
        "random_search = RandomizedSearchCV(estimator=rf_eval, param_distributions=random_grid, n_iter = 100, cv=3, random_state=88, n_jobs=-1, verbose=2)"
      ]
    },
    {
      "cell_type": "code",
      "execution_count": 47,
      "metadata": {
        "colab": {
          "base_uri": "https://localhost:8080/"
        },
        "id": "XKsOQ9xXoODR",
        "outputId": "d8274fdc-622c-4700-cb7c-30b61d5526b2"
      },
      "outputs": [
        {
          "name": "stdout",
          "output_type": "stream",
          "text": [
            "Fitting 3 folds for each of 100 candidates, totalling 300 fits\n"
          ]
        },
        {
          "data": {
            "text/plain": [
              "{'max_depth': 90,\n",
              " 'min_samples_leaf': 2,\n",
              " 'min_samples_split': 10,\n",
              " 'n_estimators': 400}"
            ]
          },
          "execution_count": 47,
          "metadata": {},
          "output_type": "execute_result"
        }
      ],
      "source": [
        "random_search.fit(x_train, y_train)\n",
        "random_search.best_params_"
      ]
    },
    {
      "cell_type": "markdown",
      "metadata": {
        "id": "cE2naTeTozaJ"
      },
      "source": [
        "### Re-entrenamiento usando nuevos hiperparámetros"
      ]
    },
    {
      "cell_type": "code",
      "execution_count": 48,
      "metadata": {
        "id": "Hpfy6f4RpMU2"
      },
      "outputs": [],
      "source": [
        "rf_opt = RandomForestClassifier(max_depth=90, min_samples_leaf=2, min_samples_split=10, n_estimators=400, random_state=88)"
      ]
    },
    {
      "cell_type": "code",
      "execution_count": 49,
      "metadata": {
        "colab": {
          "base_uri": "https://localhost:8080/"
        },
        "id": "2BXlkw_VpSqN",
        "outputId": "4a2eb2d2-bf9f-4b2a-fe80-ce194384eaf9"
      },
      "outputs": [
        {
          "data": {
            "text/plain": [
              "RandomForestClassifier(max_depth=90, min_samples_leaf=2, min_samples_split=10,\n",
              "                       n_estimators=400, random_state=88)"
            ]
          },
          "execution_count": 49,
          "metadata": {},
          "output_type": "execute_result"
        }
      ],
      "source": [
        "rf_opt.fit(x_train, y_train)"
      ]
    },
    {
      "cell_type": "code",
      "execution_count": 50,
      "metadata": {
        "id": "AcCH-X2hsbhJ"
      },
      "outputs": [],
      "source": [
        "y_pred = rf_opt.predict(x_test)"
      ]
    },
    {
      "cell_type": "code",
      "execution_count": 51,
      "metadata": {
        "colab": {
          "base_uri": "https://localhost:8080/"
        },
        "id": "skOVxKkcpTaH",
        "outputId": "1aca7e2d-ca2a-485c-efdc-6c89f46a149a"
      },
      "outputs": [
        {
          "data": {
            "text/plain": [
              "0.8906361686919227"
            ]
          },
          "execution_count": 51,
          "metadata": {},
          "output_type": "execute_result"
        }
      ],
      "source": [
        "accuracy_score(y_test, y_pred)"
      ]
    },
    {
      "cell_type": "markdown",
      "metadata": {
        "id": "dlHKHtAg67Bw"
      },
      "source": [
        "Con los nuevos hiperparámetros, se tiene una mejora de un 0,14%"
      ]
    },
    {
      "cell_type": "markdown",
      "metadata": {
        "id": "T3nZljggroMH"
      },
      "source": [
        "## Evaluación del modelo"
      ]
    },
    {
      "cell_type": "markdown",
      "metadata": {
        "id": "3KVvqg0ItpWY"
      },
      "source": [
        "### Métricas"
      ]
    },
    {
      "cell_type": "code",
      "execution_count": 52,
      "metadata": {
        "id": "9MkbVuJRtTw8"
      },
      "outputs": [],
      "source": [
        "from sklearn.metrics import classification_report"
      ]
    },
    {
      "cell_type": "code",
      "execution_count": 55,
      "metadata": {
        "colab": {
          "base_uri": "https://localhost:8080/"
        },
        "id": "naOUehxErt9j",
        "outputId": "07a8288a-a7b6-40a8-c2d1-519b0a813fa7"
      },
      "outputs": [
        {
          "name": "stdout",
          "output_type": "stream",
          "text": [
            "              precision    recall  f1-score   support\n",
            "\n",
            "           0       0.77      0.81      0.79       344\n",
            "           1       0.98      1.00      0.99       717\n",
            "           2       0.81      0.75      0.78       338\n",
            "\n",
            "    accuracy                           0.89      1399\n",
            "   macro avg       0.86      0.85      0.85      1399\n",
            "weighted avg       0.89      0.89      0.89      1399\n",
            "\n"
          ]
        }
      ],
      "source": [
        "print(classification_report(y_test, y_pred))"
      ]
    },
    {
      "cell_type": "markdown",
      "metadata": {
        "id": "jMJI-z_zFNf8"
      },
      "source": [
        "Situándonos en el caso de que un **candidato** corresponda a un nuevo valor a clasificar, y este resulta ser clasificado como confimado por el modelo, se tiene un **77%** de seguridad de que este sea un exoplaneta, lo que vendria siendo la precisión del modelo para etiquetar correctamente planetas como confirmado."
      ]
    },
    {
      "cell_type": "markdown",
      "metadata": {
        "id": "QY1u7-FjqlVa"
      },
      "source": [
        "### Matriz de confusión"
      ]
    },
    {
      "cell_type": "code",
      "execution_count": 63,
      "metadata": {
        "id": "u_aY5LKKqnDN"
      },
      "outputs": [],
      "source": [
        "import matplotlib.pyplot as plt\n",
        "from sklearn.metrics import confusion_matrix, ConfusionMatrixDisplay"
      ]
    },
    {
      "cell_type": "code",
      "execution_count": 64,
      "metadata": {
        "colab": {
          "base_uri": "https://localhost:8080/",
          "height": 279
        },
        "id": "dlMlcA1Zqn3m",
        "outputId": "a942d6ca-3a14-440f-a395-682d6d510f68"
      },
      "outputs": [
        {
          "data": {
            "image/png": "[encoded data removed]",
            "text/plain": [
              "<Figure size 432x288 with 2 Axes>"
            ]
          },
          "metadata": {
            "needs_background": "light"
          },
          "output_type": "display_data"
        }
      ],
      "source": [
        "cm = confusion_matrix(y_test, y_pred, labels=rf_opt.classes_)\n",
        "disp = ConfusionMatrixDisplay(confusion_matrix=cm, display_labels=rf_opt.classes_)\n",
        "disp.plot()\n",
        "plt.show()"
      ]
    },
    {
      "cell_type": "markdown",
      "metadata": {
        "id": "UytCLnlrxcfT"
      },
      "source": [
        "## What if...?"
      ]
    },
    {
      "cell_type": "markdown",
      "metadata": {
        "id": "amQYKnRtxiHR"
      },
      "source": [
        "En esta sección se realiza las mismas tareas del desafío pero con nuevas varibles, como por ejemplo, usar las columnas que tienen mayor diferencia de promedio o estandarizar los valores de las columnas a utilizar. Se realiza esto con el fin de ver de ver las diferencias que existe y si hay una mejora respecto al modelo anterior."
      ]
    },
    {
      "cell_type": "markdown",
      "metadata": {
        "id": "0Ve457boyVoz"
      },
      "source": [
        "### 1. Estandarización de las variables"
      ]
    },
    {
      "cell_type": "markdown",
      "metadata": {
        "id": "oNIWq2hd10GA"
      },
      "source": [
        "#### Usando RF inicial"
      ]
    },
    {
      "cell_type": "code",
      "execution_count": 67,
      "metadata": {
        "id": "YWd1QjXHxhZV"
      },
      "outputs": [],
      "source": [
        "from sklearn.preprocessing import StandardScaler"
      ]
    },
    {
      "cell_type": "code",
      "execution_count": 68,
      "metadata": {
        "id": "YbZ2YidY0tvN"
      },
      "outputs": [],
      "source": [
        "scaler = StandardScaler()\n",
        "train_scaled = scaler.fit_transform(x_train)\n",
        "test_scaled = scaler.transform(x_test)"
      ]
    },
    {
      "cell_type": "code",
      "execution_count": 69,
      "metadata": {
        "colab": {
          "base_uri": "https://localhost:8080/"
        },
        "id": "4CaGu-TP1DF-",
        "outputId": "555ef7a2-5fac-475b-df92-859bff01770f"
      },
      "outputs": [
        {
          "data": {
            "text/plain": [
              "RandomForestClassifier(random_state=88)"
            ]
          },
          "execution_count": 69,
          "metadata": {},
          "output_type": "execute_result"
        }
      ],
      "source": [
        "rf_model.fit(train_scaled, y_train) #RF inicial, usando los parametros default + random_state = 88"
      ]
    },
    {
      "cell_type": "code",
      "execution_count": 70,
      "metadata": {
        "colab": {
          "base_uri": "https://localhost:8080/"
        },
        "id": "lvDuqrUa1XHU",
        "outputId": "b89f254c-2b8e-4d75-fb0b-af9438af9251"
      },
      "outputs": [
        {
          "data": {
            "text/plain": [
              "0.8884917798427449"
            ]
          },
          "execution_count": 70,
          "metadata": {},
          "output_type": "execute_result"
        }
      ],
      "source": [
        "accuracy_score(y_test, rf_model.predict(test_scaled))"
      ]
    },
    {
      "cell_type": "markdown",
      "metadata": {
        "id": "NN474n-l8NuD"
      },
      "source": [
        "Respecto al modelo original (sin estandarizar los valores), se tiene que este decrementa un 0,07%"
      ]
    },
    {
      "cell_type": "markdown",
      "metadata": {
        "id": "STjyEQH213D9"
      },
      "source": [
        "#### Optimizar hiperparámetros y re-entrenamiento"
      ]
    },
    {
      "cell_type": "markdown",
      "metadata": {
        "id": "UC329MaM9D2y"
      },
      "source": [
        "Se utilizan la misma configuración de posibles hiperparámetros óptimos, definidos en el modelo inicial.\n",
        "\n"
      ]
    },
    {
      "cell_type": "code",
      "execution_count": 71,
      "metadata": {
        "colab": {
          "base_uri": "https://localhost:8080/"
        },
        "id": "YKU9ZysC8kpD",
        "outputId": "a5fe48a1-805d-47e3-d705-01151e29c15f"
      },
      "outputs": [
        {
          "name": "stdout",
          "output_type": "stream",
          "text": [
            "Fitting 3 folds for each of 100 candidates, totalling 300 fits\n"
          ]
        },
        {
          "data": {
            "text/plain": [
              "{'max_depth': 90,\n",
              " 'min_samples_leaf': 2,\n",
              " 'min_samples_split': 10,\n",
              " 'n_estimators': 400}"
            ]
          },
          "execution_count": 71,
          "metadata": {},
          "output_type": "execute_result"
        }
      ],
      "source": [
        "random_search.fit(train_scaled, y_train)\n",
        "random_search.best_params_"
      ]
    },
    {
      "cell_type": "code",
      "execution_count": 78,
      "metadata": {
        "id": "ZJ01TE1Q9jrg"
      },
      "outputs": [],
      "source": [
        "rf_standar_opt = RandomForestClassifier(max_depth=90, min_samples_leaf=2, min_samples_split=10, n_estimators=400, random_state=88)"
      ]
    },
    {
      "cell_type": "code",
      "execution_count": 79,
      "metadata": {
        "colab": {
          "base_uri": "https://localhost:8080/"
        },
        "id": "fNoy3UjO9jrg",
        "outputId": "aca6ad4c-3638-40d2-e25a-115c27fe0e9a"
      },
      "outputs": [
        {
          "data": {
            "text/plain": [
              "RandomForestClassifier(max_depth=90, min_samples_leaf=2, min_samples_split=10,\n",
              "                       n_estimators=400, random_state=88)"
            ]
          },
          "execution_count": 79,
          "metadata": {},
          "output_type": "execute_result"
        }
      ],
      "source": [
        "rf_standar_opt.fit(train_scaled, y_train)"
      ]
    },
    {
      "cell_type": "code",
      "execution_count": 80,
      "metadata": {
        "id": "KgMymIXJ9jrg"
      },
      "outputs": [],
      "source": [
        "y_pred = rf_standar_opt.predict(test_scaled)"
      ]
    },
    {
      "cell_type": "code",
      "execution_count": 81,
      "metadata": {
        "colab": {
          "base_uri": "https://localhost:8080/"
        },
        "id": "CJHiAb0E9jrh",
        "outputId": "12523446-8925-4501-a776-2ff23600221d"
      },
      "outputs": [
        {
          "data": {
            "text/plain": [
              "0.8906361686919227"
            ]
          },
          "execution_count": 81,
          "metadata": {},
          "output_type": "execute_result"
        }
      ],
      "source": [
        "accuracy_score(y_test, y_pred)"
      ]
    },
    {
      "cell_type": "markdown",
      "metadata": {
        "id": "GNNAHbiUCkan"
      },
      "source": [
        "Con los nuevos hiperparámetros, se tiene una mejora de un 0,21%. Respecto al modelo original, presentan el mismo `accuracy`, se puede inferir que no se requiere en este caso estandarizar los datos si se encuentra la misma configuracion de hiperpárametros."
      ]
    },
    {
      "cell_type": "markdown",
      "metadata": {
        "id": "njeO3QdM18JX"
      },
      "source": [
        "### 2. Cambiar las columnas por las descartadas"
      ]
    },
    {
      "cell_type": "markdown",
      "metadata": {
        "id": "-ZJLCf-LLf42"
      },
      "source": [
        "Se realiza esto con la hipótesis de que al usar los valores con gran diferencia de promedio, el modelo le resulta más fácil distinguir entre un planeta confirmado vs un falso positivo."
      ]
    },
    {
      "cell_type": "code",
      "execution_count": 82,
      "metadata": {
        "id": "lYd4oJpZ2GqM"
      },
      "outputs": [],
      "source": [
        "exop_df_reduced_hm = exop_df.drop(['koi_fpflag_nt', 'koi_fpflag_ss', 'koi_fpflag_co', 'koi_fpflag_ec',\n",
        "                                    'koi_time0bk', 'koi_time0bk_err1', 'koi_duration', 'koi_duration_err1', 'koi_teq',\n",
        "                                    'koi_tce_plnt_num', 'koi_steff', 'koi_steff_err1', 'koi_slogg', 'koi_slogg_err2',\n",
        "                                    'koi_srad', 'koi_srad_err1', 'ra', 'dec', 'koi_kepmag'], axis=1)"
      ]
    },
    {
      "cell_type": "code",
      "execution_count": null,
      "metadata": {
        "id": "lmT0XOYx2ln2"
      },
      "outputs": [],
      "source": [
        "exop_df_reduced_hm"
      ]
    },
    {
      "cell_type": "code",
      "execution_count": 84,
      "metadata": {
        "id": "zKJ361Qa2mZG"
      },
      "outputs": [],
      "source": [
        "exop_df_reduced_hm['koi_disposition'].replace('CONFIRMED', int(0), inplace=True)\n",
        "exop_df_reduced_hm['koi_disposition'].replace('FALSE POSITIVE', int(1), inplace=True)\n",
        "exop_df_reduced_hm['koi_disposition'].replace('CANDIDATE', int(2), inplace=True)"
      ]
    },
    {
      "cell_type": "code",
      "execution_count": 85,
      "metadata": {
        "id": "Z_pnnaoG2vcI"
      },
      "outputs": [],
      "source": [
        "exop_df_reduced_hm_X = exop_df_reduced_hm.drop(['koi_disposition'], axis=1)\n",
        "exop_df_reduced_hm_y = exop_df_reduced_hm['koi_disposition']"
      ]
    },
    {
      "cell_type": "code",
      "execution_count": 86,
      "metadata": {
        "id": "bPnrpcHc2vcI"
      },
      "outputs": [],
      "source": [
        "x_train_hm, x_test_hm, y_train_hm, y_test_hm = train_test_split(exop_df_reduced_hm_X, exop_df_reduced_hm_y, test_size=0.2, random_state=88)"
      ]
    },
    {
      "cell_type": "markdown",
      "metadata": {
        "id": "S6jOXrvBDWYu"
      },
      "source": [
        "#### Entrenamiento y optimización"
      ]
    },
    {
      "cell_type": "code",
      "execution_count": 87,
      "metadata": {
        "colab": {
          "base_uri": "https://localhost:8080/"
        },
        "id": "huZGG3tJDbP8",
        "outputId": "3948e219-e81e-43f1-b110-fb421f475d8a"
      },
      "outputs": [
        {
          "name": "stdout",
          "output_type": "stream",
          "text": [
            "Parametros utilizados (defaults): \n",
            "{'bootstrap': True,\n",
            " 'ccp_alpha': 0.0,\n",
            " 'class_weight': None,\n",
            " 'criterion': 'gini',\n",
            " 'max_depth': None,\n",
            " 'max_features': 'auto',\n",
            " 'max_leaf_nodes': None,\n",
            " 'max_samples': None,\n",
            " 'min_impurity_decrease': 0.0,\n",
            " 'min_samples_leaf': 1,\n",
            " 'min_samples_split': 2,\n",
            " 'min_weight_fraction_leaf': 0.0,\n",
            " 'n_estimators': 100,\n",
            " 'n_jobs': None,\n",
            " 'oob_score': False,\n",
            " 'random_state': 88,\n",
            " 'verbose': 0,\n",
            " 'warm_start': False}\n"
          ]
        }
      ],
      "source": [
        "rf_hm_model = RandomForestClassifier(random_state=88)\n",
        "print('Parametros utilizados (defaults): ')\n",
        "pprint(rf_model.get_params())"
      ]
    },
    {
      "cell_type": "code",
      "execution_count": 89,
      "metadata": {
        "colab": {
          "base_uri": "https://localhost:8080/"
        },
        "id": "PgF3O13fDbP9",
        "outputId": "ff5a9755-f64e-4dd5-b14e-d0d79525b7ce"
      },
      "outputs": [
        {
          "data": {
            "text/plain": [
              "RandomForestClassifier(random_state=88)"
            ]
          },
          "execution_count": 89,
          "metadata": {},
          "output_type": "execute_result"
        }
      ],
      "source": [
        "rf_hm_model.fit(x_train_hm, y_train_hm)"
      ]
    },
    {
      "cell_type": "code",
      "execution_count": 91,
      "metadata": {
        "colab": {
          "base_uri": "https://localhost:8080/"
        },
        "id": "PQHs2nYwDbP-",
        "outputId": "48f137f8-13b4-4da3-b7f1-b6f279488d70"
      },
      "outputs": [
        {
          "data": {
            "text/plain": [
              "0.771265189421015"
            ]
          },
          "execution_count": 91,
          "metadata": {},
          "output_type": "execute_result"
        }
      ],
      "source": [
        "accuracy_score(y_test_hm, rf_hm_model.predict(x_test_hm))"
      ]
    },
    {
      "cell_type": "markdown",
      "metadata": {
        "id": "TqKYXJIUEMzU"
      },
      "source": [
        "Se utilizan la misma configuración de posibles hiperparámetros óptimos, definidos en el modelo inicial.\n",
        "\n"
      ]
    },
    {
      "cell_type": "code",
      "execution_count": 92,
      "metadata": {
        "colab": {
          "base_uri": "https://localhost:8080/"
        },
        "id": "ldVCIlUuEMzV",
        "outputId": "1ceb1276-9cd3-402b-a8bb-439de54ba506"
      },
      "outputs": [
        {
          "name": "stdout",
          "output_type": "stream",
          "text": [
            "Fitting 3 folds for each of 100 candidates, totalling 300 fits\n"
          ]
        },
        {
          "data": {
            "text/plain": [
              "{'max_depth': 40,\n",
              " 'min_samples_leaf': 4,\n",
              " 'min_samples_split': 3,\n",
              " 'n_estimators': 200}"
            ]
          },
          "execution_count": 92,
          "metadata": {},
          "output_type": "execute_result"
        }
      ],
      "source": [
        "random_search.fit(x_train_hm, y_train_hm)\n",
        "random_search.best_params_"
      ]
    },
    {
      "cell_type": "code",
      "execution_count": 93,
      "metadata": {
        "id": "sZrCHSmRE74a"
      },
      "outputs": [],
      "source": [
        "rf_opt_hm = RandomForestClassifier(max_depth=40, min_samples_leaf=4, min_samples_split=3, n_estimators=200, random_state=88)"
      ]
    },
    {
      "cell_type": "code",
      "execution_count": null,
      "metadata": {
        "id": "PVPqJssOEwKn"
      },
      "outputs": [],
      "source": [
        "rf_opt_hm.fit(x_train_hm, y_train_hm)"
      ]
    },
    {
      "cell_type": "code",
      "execution_count": 95,
      "metadata": {
        "colab": {
          "base_uri": "https://localhost:8080/"
        },
        "id": "AugrW8GzEwKo",
        "outputId": "d749c3ae-fc92-4061-f519-18460f3e0297"
      },
      "outputs": [
        {
          "data": {
            "text/plain": [
              "0.7698355968548963"
            ]
          },
          "execution_count": 95,
          "metadata": {},
          "output_type": "execute_result"
        }
      ],
      "source": [
        "accuracy_score(y_test_hm, rf_opt_hm.predict(x_test_hm))"
      ]
    },
    {
      "cell_type": "markdown",
      "metadata": {
        "id": "eiaKUs5REwKo"
      },
      "source": [
        "Con los nuevos hiperparámetros, se tiene una reducción de un 0,14% frente al uso de los parametros iniciales (defaults). Además, su `accuracy` es inferior a los modelos anteriores."
      ]
    },
    {
      "cell_type": "markdown",
      "metadata": {
        "id": "kWvComeSM5fl"
      },
      "source": [
        "Este resultado da a lugar que la hipótesis planteada no se cumple. Aunque existen posibles mejoras a los modelos planteados, como:\n",
        "\n",
        "* Aumentar la cantidad de iteraciones y cross-validation de la técnica `RandomizedSearchCV`\n",
        "* Utilizar otra técnica de optimización como `GridSearchCV`\n",
        "* Agregar nuevos posibles valores de hiperparámetros a probar.\n",
        "* En caso de querer comprobar nuevamente la hipótesis, se puede mantener las variables que tengan promedio elevado, pero descartando una de las columnas de certeza asociada, como también incluir las variables de `koi_fpflag_nt`, `koi_fpflag_ss`, `koi_fpflag_co` y `koi_fpflag_ec`."
      ]
    },
    {
      "cell_type": "code",
      "execution_count": null,
      "metadata": {
        "id": "pe4VNVY7ORji"
      },
      "outputs": [],
      "source": []
    }
  ],
  "metadata": {
    "colab": {
      "collapsed_sections": [
        "QY1u7-FjqlVa",
        "oNIWq2hd10GA"
      ],
      "name": "Desafío Analítica Avanzada - Yui Zhou",
      "provenance": []
    },
    "kernelspec": {
      "display_name": "Python 3",
      "name": "python3"
    },
    "language_info": {
      "name": "python"
    }
  },
  "nbformat": 4,
  "nbformat_minor": 0
}
